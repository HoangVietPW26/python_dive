{
 "cells": [
  {
   "cell_type": "markdown",
   "metadata": {},
   "source": [
    "## Variable and memory"
   ]
  },
  {
   "cell_type": "markdown",
   "metadata": {},
   "source": [
    "- All variable in python are poiters, point to object in memory\n",
    "- id() return the start position of memory allocation, an object can occupy more than one mem slot"
   ]
  },
  {
   "cell_type": "code",
   "execution_count": 1,
   "metadata": {},
   "outputs": [],
   "source": [
    "import sys\n",
    "import ctypes\n",
    "import gc"
   ]
  },
  {
   "cell_type": "code",
   "execution_count": 2,
   "metadata": {},
   "outputs": [],
   "source": [
    "# my_var and other_var both point to object 'Hello'\n",
    "my_var = 'Hello'\n",
    "other_var = my_var"
   ]
  },
  {
   "cell_type": "code",
   "execution_count": 3,
   "metadata": {},
   "outputs": [
    {
     "name": "stdout",
     "output_type": "stream",
     "text": [
      "3\n",
      "2\n",
      "2\n",
      "1\n",
      "31325\n",
      "31324\n"
     ]
    }
   ],
   "source": [
    "# Python is pass by ref, pass my_var to function increase the reference by 1\n",
    "print(sys.getrefcount(my_var))\n",
    "# Use ctypes to avoid this or minus one from get ref\n",
    "print(ctypes.c_long.from_address(id(my_var)).value)\n",
    "\n",
    "other_var = 'Bye'\n",
    "print(sys.getrefcount(my_var))\n",
    "# Use ctypes to avoid this or minus one from get ref\n",
    "print(ctypes.c_long.from_address(id(my_var)).value)\n",
    "my_var = None\n",
    "print(sys.getrefcount(my_var))\n",
    "# Use ctypes to avoid this or minus one from get ref\n",
    "print(ctypes.c_long.from_address(id(my_var)).value)"
   ]
  },
  {
   "cell_type": "markdown",
   "metadata": {},
   "source": [
    "If object is None, we dont know what store in that address, num of ref become arbitary"
   ]
  },
  {
   "cell_type": "markdown",
   "metadata": {},
   "source": [
    "Some value in python is pre-computed (often used value like 1,2,3,..100,'a','b',...) which make those reference initially large. This is call Python peephole."
   ]
  },
  {
   "cell_type": "code",
   "execution_count": 4,
   "metadata": {},
   "outputs": [
    {
     "name": "stdout",
     "output_type": "stream",
     "text": [
      "3\n",
      "2\n",
      "121\n",
      "120\n",
      "2593\n",
      "2592\n",
      "286\n",
      "285\n",
      "3\n",
      "2\n",
      "2\n",
      "1\n"
     ]
    }
   ],
   "source": [
    "a = 10000\n",
    "b = 100\n",
    "c = 1\n",
    "d = 'a'\n",
    "e = 'Hello'\n",
    "g = [1,2,3]\n",
    "print(sys.getrefcount(a))\n",
    "print(ctypes.c_long.from_address(id(a)).value)\n",
    "print(sys.getrefcount(b))\n",
    "print(ctypes.c_long.from_address(id(b)).value)\n",
    "print(sys.getrefcount(c))\n",
    "print(ctypes.c_long.from_address(id(c)).value)\n",
    "print(sys.getrefcount(d))\n",
    "print(ctypes.c_long.from_address(id(d)).value)\n",
    "print(sys.getrefcount(e))\n",
    "print(ctypes.c_long.from_address(id(e)).value)\n",
    "print(sys.getrefcount(g))\n",
    "print(ctypes.c_long.from_address(id(g)).value)"
   ]
  },
  {
   "cell_type": "markdown",
   "metadata": {},
   "source": [
    "### Garbage collection"
   ]
  },
  {
   "cell_type": "markdown",
   "metadata": {},
   "source": [
    "When ref count hit zero, python will destroy object. But sometimes it not work. For example\n",
    "\n",
    "\n",
    "Circular reference\n",
    "- my_var ----> ObjA\n",
    "- ObjA.val1 -----> ObjB\n",
    "- ObjB.val2 -----> ObjA\n",
    "\n",
    "Get rid of my_var will not auto destroy ObjA since ref count to A still 1 (point from ObjB), same as B.\n",
    "This lead to memory leak.\n",
    "\n",
    "Solve by garbage collector.\n",
    "- control by gc module\n",
    "- turned on by default\n",
    "- could turn off but aware !!!"
   ]
  },
  {
   "cell_type": "code",
   "execution_count": 5,
   "metadata": {},
   "outputs": [],
   "source": [
    "def ref_count(address):\n",
    "    print(ctypes.c_long.from_address(address).value)"
   ]
  },
  {
   "cell_type": "code",
   "execution_count": 6,
   "metadata": {},
   "outputs": [],
   "source": [
    "def object_by_id(object_id):\n",
    "    for obj in gc.get_objects(): # object tracked by gc\n",
    "        if id(obj) == object_id:\n",
    "            return \"Object exist\"\n",
    "    return \"Not Found\""
   ]
  },
  {
   "cell_type": "markdown",
   "metadata": {},
   "source": [
    "Circular ref"
   ]
  },
  {
   "cell_type": "code",
   "execution_count": 7,
   "metadata": {},
   "outputs": [],
   "source": [
    "class A:\n",
    "    def __init__(self) -> None:\n",
    "        self.b = B(self)\n",
    "        print(f\"A: self {hex(id(self))} b: {hex(id(self.b))}\")\n",
    "\n",
    "class B:\n",
    "    def __init__(self, a) -> None:\n",
    "        self.a = a\n",
    "        print(f\"B: self {hex(id(self))} a: {hex(id(self.a))}\")"
   ]
  },
  {
   "cell_type": "code",
   "execution_count": 8,
   "metadata": {},
   "outputs": [],
   "source": [
    "gc.disable()"
   ]
  },
  {
   "cell_type": "code",
   "execution_count": 9,
   "metadata": {},
   "outputs": [
    {
     "name": "stdout",
     "output_type": "stream",
     "text": [
      "B: self 0x1ce5536c4c0 a: 0x1ce5536cb50\n",
      "A: self 0x1ce5536cb50 b: 0x1ce5536c4c0\n"
     ]
    }
   ],
   "source": [
    "my_var = A()"
   ]
  },
  {
   "cell_type": "code",
   "execution_count": 10,
   "metadata": {},
   "outputs": [],
   "source": [
    "a_id = id(my_var)\n",
    "b_id = id(my_var.b)"
   ]
  },
  {
   "cell_type": "code",
   "execution_count": 11,
   "metadata": {},
   "outputs": [
    {
     "name": "stdout",
     "output_type": "stream",
     "text": [
      "2\n",
      "1\n"
     ]
    }
   ],
   "source": [
    "ref_count(a_id)\n",
    "ref_count(b_id)"
   ]
  },
  {
   "cell_type": "code",
   "execution_count": 12,
   "metadata": {},
   "outputs": [
    {
     "data": {
      "text/plain": [
       "'Object exist'"
      ]
     },
     "execution_count": 12,
     "metadata": {},
     "output_type": "execute_result"
    }
   ],
   "source": [
    "object_by_id(a_id)"
   ]
  },
  {
   "cell_type": "code",
   "execution_count": 13,
   "metadata": {},
   "outputs": [
    {
     "data": {
      "text/plain": [
       "'Object exist'"
      ]
     },
     "execution_count": 13,
     "metadata": {},
     "output_type": "execute_result"
    }
   ],
   "source": [
    "object_by_id(b_id)"
   ]
  },
  {
   "cell_type": "code",
   "execution_count": 14,
   "metadata": {},
   "outputs": [
    {
     "name": "stdout",
     "output_type": "stream",
     "text": [
      "1\n",
      "1\n"
     ]
    }
   ],
   "source": [
    "my_var = None\n",
    "ref_count(a_id)\n",
    "ref_count(b_id)"
   ]
  },
  {
   "cell_type": "code",
   "execution_count": 15,
   "metadata": {},
   "outputs": [
    {
     "data": {
      "text/plain": [
       "'Object exist'"
      ]
     },
     "execution_count": 15,
     "metadata": {},
     "output_type": "execute_result"
    }
   ],
   "source": [
    "object_by_id(a_id)"
   ]
  },
  {
   "cell_type": "code",
   "execution_count": 16,
   "metadata": {},
   "outputs": [
    {
     "data": {
      "text/plain": [
       "'Object exist'"
      ]
     },
     "execution_count": 16,
     "metadata": {},
     "output_type": "execute_result"
    }
   ],
   "source": [
    "object_by_id(b_id)"
   ]
  },
  {
   "cell_type": "code",
   "execution_count": 17,
   "metadata": {},
   "outputs": [
    {
     "data": {
      "text/plain": [
       "330"
      ]
     },
     "execution_count": 17,
     "metadata": {},
     "output_type": "execute_result"
    }
   ],
   "source": [
    "gc.collect()"
   ]
  },
  {
   "cell_type": "code",
   "execution_count": 18,
   "metadata": {},
   "outputs": [
    {
     "data": {
      "text/plain": [
       "'Not Found'"
      ]
     },
     "execution_count": 18,
     "metadata": {},
     "output_type": "execute_result"
    }
   ],
   "source": [
    "object_by_id(a_id)"
   ]
  },
  {
   "cell_type": "code",
   "execution_count": 39,
   "metadata": {},
   "outputs": [
    {
     "name": "stdout",
     "output_type": "stream",
     "text": [
      "1\n",
      "247269008\n"
     ]
    }
   ],
   "source": [
    "ref_count(a_id)\n",
    "ref_count(b_id)"
   ]
  },
  {
   "cell_type": "code",
   "execution_count": 41,
   "metadata": {},
   "outputs": [
    {
     "name": "stdout",
     "output_type": "stream",
     "text": [
      "0x7ffc0ebd07d0\n",
      "0x7ffc0ebd07d0\n",
      "0x7ffc0ebd0870\n",
      "0x7ffc0ebd07d0\n",
      "0x7ffc0ebd0890\n",
      "0x7ffc0ebd07d0\n"
     ]
    }
   ],
   "source": [
    "a = 10\n",
    "b = 10\n",
    "print(hex(id(a)))\n",
    "print(hex(id(b)))\n",
    "a = 15\n",
    "print(hex(id(a)))\n",
    "print(hex(id(b)))\n",
    "a = a + 1\n",
    "print(hex(id(a)))\n",
    "print(hex(id(b)))"
   ]
  }
 ],
 "metadata": {
  "kernelspec": {
   "display_name": "Python 3",
   "language": "python",
   "name": "python3"
  },
  "language_info": {
   "codemirror_mode": {
    "name": "ipython",
    "version": 3
   },
   "file_extension": ".py",
   "mimetype": "text/x-python",
   "name": "python",
   "nbconvert_exporter": "python",
   "pygments_lexer": "ipython3",
   "version": "3.8.8"
  }
 },
 "nbformat": 4,
 "nbformat_minor": 2
}
